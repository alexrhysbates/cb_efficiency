{
 "cells": [
  {
   "cell_type": "markdown",
   "metadata": {},
   "source": [
    "## Preparing a dataset for centre back model\n",
    "Aim is to collect a dataset on match lineups (defenders specifically) and match stats, specifically xG, goals and also touches in box / final 3rd."
   ]
  },
  {
   "cell_type": "markdown",
   "metadata": {},
   "source": [
    "### 1. Set up / dependencies"
   ]
  },
  {
   "cell_type": "code",
   "execution_count": 25,
   "metadata": {},
   "outputs": [],
   "source": [
    "from statsbombpy import sb\n",
    "import numpy as np\n",
    "import pandas as pd"
   ]
  },
  {
   "cell_type": "markdown",
   "metadata": {},
   "source": [
    "### 2. Read in data"
   ]
  },
  {
   "cell_type": "code",
   "execution_count": 27,
   "metadata": {},
   "outputs": [
    {
     "name": "stdout",
     "output_type": "stream",
     "text": [
      "credentials were not supplied. open data access only\n"
     ]
    },
    {
     "data": {
      "text/plain": [
       "15    90\n",
       "16    42\n",
       "17     4\n",
       "Name: season_id, dtype: int64"
      ]
     },
     "execution_count": 27,
     "metadata": {},
     "output_type": "execute_result"
    }
   ],
   "source": [
    "# get the competition / season_ids\n",
    "comps = sb.competitions()\n",
    "comps = comps[comps.competition_id == 37]\n",
    "comps.season_id"
   ]
  },
  {
   "cell_type": "code",
   "execution_count": 32,
   "metadata": {},
   "outputs": [
    {
     "name": "stdout",
     "output_type": "stream",
     "text": [
      "credentials were not supplied. open data access only\n",
      "credentials were not supplied. open data access only\n",
      "credentials were not supplied. open data access only\n"
     ]
    }
   ],
   "source": [
    "# get all the match ids\n",
    "matches1 = sb.matches(competition_id=37, season_id=4)\n",
    "matches2 = sb.matches(competition_id=37, season_id=42)\n",
    "matches3 = sb.matches(competition_id=37, season_id=90)\n",
    "matches = pd.concat([matches1, matches2, matches3])\n",
    "match_ids = matches.match_id.values"
   ]
  },
  {
   "cell_type": "code",
   "execution_count": 46,
   "metadata": {
    "scrolled": true
   },
   "outputs": [
    {
     "name": "stdout",
     "output_type": "stream",
     "text": [
      "credentials were not supplied. open data access only\n",
      "credentials were not supplied. open data access only\n",
      "credentials were not supplied. open data access only\n",
      "credentials were not supplied. open data access only\n",
      "credentials were not supplied. open data access only\n",
      "credentials were not supplied. open data access only\n",
      "credentials were not supplied. open data access only\n",
      "credentials were not supplied. open data access only\n",
      "credentials were not supplied. open data access only\n",
      "credentials were not supplied. open data access only\n",
      "credentials were not supplied. open data access only\n",
      "credentials were not supplied. open data access only\n",
      "credentials were not supplied. open data access only\n",
      "credentials were not supplied. open data access only\n",
      "credentials were not supplied. open data access only\n",
      "credentials were not supplied. open data access only\n",
      "credentials were not supplied. open data access only\n",
      "credentials were not supplied. open data access only\n",
      "credentials were not supplied. open data access only\n",
      "credentials were not supplied. open data access only\n",
      "credentials were not supplied. open data access only\n",
      "credentials were not supplied. open data access only\n",
      "credentials were not supplied. open data access only\n",
      "credentials were not supplied. open data access only\n",
      "credentials were not supplied. open data access only\n",
      "credentials were not supplied. open data access only\n",
      "credentials were not supplied. open data access only\n",
      "credentials were not supplied. open data access only\n",
      "credentials were not supplied. open data access only\n",
      "credentials were not supplied. open data access only\n",
      "credentials were not supplied. open data access only\n",
      "credentials were not supplied. open data access only\n",
      "credentials were not supplied. open data access only\n",
      "credentials were not supplied. open data access only\n",
      "credentials were not supplied. open data access only\n",
      "credentials were not supplied. open data access only\n",
      "credentials were not supplied. open data access only\n",
      "credentials were not supplied. open data access only\n",
      "credentials were not supplied. open data access only\n",
      "credentials were not supplied. open data access only\n",
      "credentials were not supplied. open data access only\n",
      "credentials were not supplied. open data access only\n",
      "credentials were not supplied. open data access only\n",
      "credentials were not supplied. open data access only\n",
      "credentials were not supplied. open data access only\n",
      "credentials were not supplied. open data access only\n",
      "credentials were not supplied. open data access only\n",
      "credentials were not supplied. open data access only\n",
      "credentials were not supplied. open data access only\n",
      "credentials were not supplied. open data access only\n",
      "credentials were not supplied. open data access only\n",
      "credentials were not supplied. open data access only\n",
      "credentials were not supplied. open data access only\n",
      "credentials were not supplied. open data access only\n",
      "credentials were not supplied. open data access only\n",
      "credentials were not supplied. open data access only\n",
      "credentials were not supplied. open data access only\n",
      "credentials were not supplied. open data access only\n",
      "credentials were not supplied. open data access only\n",
      "credentials were not supplied. open data access only\n",
      "credentials were not supplied. open data access only\n",
      "credentials were not supplied. open data access only\n",
      "credentials were not supplied. open data access only\n",
      "credentials were not supplied. open data access only\n",
      "credentials were not supplied. open data access only\n",
      "credentials were not supplied. open data access only\n",
      "credentials were not supplied. open data access only\n",
      "credentials were not supplied. open data access only\n",
      "credentials were not supplied. open data access only\n",
      "credentials were not supplied. open data access only\n",
      "credentials were not supplied. open data access only\n",
      "credentials were not supplied. open data access only\n",
      "credentials were not supplied. open data access only\n",
      "credentials were not supplied. open data access only\n",
      "credentials were not supplied. open data access only\n",
      "credentials were not supplied. open data access only\n",
      "credentials were not supplied. open data access only\n",
      "credentials were not supplied. open data access only\n",
      "credentials were not supplied. open data access only\n",
      "credentials were not supplied. open data access only\n",
      "credentials were not supplied. open data access only\n",
      "credentials were not supplied. open data access only\n",
      "credentials were not supplied. open data access only\n",
      "credentials were not supplied. open data access only\n",
      "credentials were not supplied. open data access only\n",
      "credentials were not supplied. open data access only\n",
      "credentials were not supplied. open data access only\n",
      "credentials were not supplied. open data access only\n",
      "credentials were not supplied. open data access only\n",
      "credentials were not supplied. open data access only\n",
      "credentials were not supplied. open data access only\n",
      "credentials were not supplied. open data access only\n",
      "credentials were not supplied. open data access only\n",
      "credentials were not supplied. open data access only\n",
      "credentials were not supplied. open data access only\n",
      "credentials were not supplied. open data access only\n",
      "credentials were not supplied. open data access only\n",
      "credentials were not supplied. open data access only\n",
      "credentials were not supplied. open data access only\n",
      "credentials were not supplied. open data access only\n",
      "credentials were not supplied. open data access only\n",
      "credentials were not supplied. open data access only\n",
      "credentials were not supplied. open data access only\n",
      "credentials were not supplied. open data access only\n",
      "credentials were not supplied. open data access only\n",
      "credentials were not supplied. open data access only\n",
      "credentials were not supplied. open data access only\n",
      "credentials were not supplied. open data access only\n",
      "credentials were not supplied. open data access only\n",
      "credentials were not supplied. open data access only\n",
      "credentials were not supplied. open data access only\n",
      "credentials were not supplied. open data access only\n",
      "credentials were not supplied. open data access only\n",
      "credentials were not supplied. open data access only\n",
      "credentials were not supplied. open data access only\n",
      "credentials were not supplied. open data access only\n",
      "credentials were not supplied. open data access only\n",
      "credentials were not supplied. open data access only\n",
      "credentials were not supplied. open data access only\n",
      "credentials were not supplied. open data access only\n",
      "credentials were not supplied. open data access only\n",
      "credentials were not supplied. open data access only\n",
      "credentials were not supplied. open data access only\n",
      "credentials were not supplied. open data access only\n",
      "credentials were not supplied. open data access only\n",
      "credentials were not supplied. open data access only\n",
      "credentials were not supplied. open data access only\n",
      "credentials were not supplied. open data access only\n",
      "credentials were not supplied. open data access only\n",
      "credentials were not supplied. open data access only\n",
      "credentials were not supplied. open data access only\n",
      "credentials were not supplied. open data access only\n",
      "credentials were not supplied. open data access only\n",
      "credentials were not supplied. open data access only\n",
      "credentials were not supplied. open data access only\n",
      "credentials were not supplied. open data access only\n",
      "credentials were not supplied. open data access only\n",
      "credentials were not supplied. open data access only\n",
      "credentials were not supplied. open data access only\n",
      "credentials were not supplied. open data access only\n",
      "credentials were not supplied. open data access only\n",
      "credentials were not supplied. open data access only\n",
      "credentials were not supplied. open data access only\n",
      "credentials were not supplied. open data access only\n",
      "credentials were not supplied. open data access only\n",
      "credentials were not supplied. open data access only\n",
      "credentials were not supplied. open data access only\n",
      "credentials were not supplied. open data access only\n",
      "credentials were not supplied. open data access only\n",
      "credentials were not supplied. open data access only\n",
      "credentials were not supplied. open data access only\n",
      "credentials were not supplied. open data access only\n",
      "credentials were not supplied. open data access only\n",
      "credentials were not supplied. open data access only\n",
      "credentials were not supplied. open data access only\n"
     ]
    },
    {
     "name": "stdout",
     "output_type": "stream",
     "text": [
      "credentials were not supplied. open data access only\n",
      "credentials were not supplied. open data access only\n",
      "credentials were not supplied. open data access only\n",
      "credentials were not supplied. open data access only\n",
      "credentials were not supplied. open data access only\n",
      "credentials were not supplied. open data access only\n",
      "credentials were not supplied. open data access only\n",
      "credentials were not supplied. open data access only\n",
      "credentials were not supplied. open data access only\n",
      "credentials were not supplied. open data access only\n",
      "credentials were not supplied. open data access only\n",
      "credentials were not supplied. open data access only\n",
      "credentials were not supplied. open data access only\n",
      "credentials were not supplied. open data access only\n",
      "credentials were not supplied. open data access only\n",
      "credentials were not supplied. open data access only\n",
      "credentials were not supplied. open data access only\n",
      "credentials were not supplied. open data access only\n",
      "credentials were not supplied. open data access only\n",
      "credentials were not supplied. open data access only\n",
      "credentials were not supplied. open data access only\n",
      "credentials were not supplied. open data access only\n",
      "credentials were not supplied. open data access only\n",
      "credentials were not supplied. open data access only\n",
      "credentials were not supplied. open data access only\n",
      "credentials were not supplied. open data access only\n",
      "credentials were not supplied. open data access only\n",
      "credentials were not supplied. open data access only\n",
      "credentials were not supplied. open data access only\n",
      "credentials were not supplied. open data access only\n",
      "credentials were not supplied. open data access only\n",
      "credentials were not supplied. open data access only\n",
      "credentials were not supplied. open data access only\n",
      "credentials were not supplied. open data access only\n",
      "credentials were not supplied. open data access only\n",
      "credentials were not supplied. open data access only\n",
      "credentials were not supplied. open data access only\n",
      "credentials were not supplied. open data access only\n",
      "credentials were not supplied. open data access only\n",
      "credentials were not supplied. open data access only\n",
      "credentials were not supplied. open data access only\n",
      "credentials were not supplied. open data access only\n",
      "credentials were not supplied. open data access only\n",
      "credentials were not supplied. open data access only\n",
      "credentials were not supplied. open data access only\n",
      "credentials were not supplied. open data access only\n",
      "credentials were not supplied. open data access only\n",
      "credentials were not supplied. open data access only\n",
      "credentials were not supplied. open data access only\n",
      "credentials were not supplied. open data access only\n",
      "credentials were not supplied. open data access only\n",
      "credentials were not supplied. open data access only\n",
      "credentials were not supplied. open data access only\n",
      "credentials were not supplied. open data access only\n",
      "credentials were not supplied. open data access only\n",
      "credentials were not supplied. open data access only\n",
      "credentials were not supplied. open data access only\n",
      "credentials were not supplied. open data access only\n",
      "credentials were not supplied. open data access only\n",
      "credentials were not supplied. open data access only\n",
      "credentials were not supplied. open data access only\n",
      "credentials were not supplied. open data access only\n",
      "credentials were not supplied. open data access only\n",
      "credentials were not supplied. open data access only\n",
      "credentials were not supplied. open data access only\n",
      "credentials were not supplied. open data access only\n",
      "credentials were not supplied. open data access only\n",
      "credentials were not supplied. open data access only\n",
      "credentials were not supplied. open data access only\n",
      "credentials were not supplied. open data access only\n",
      "credentials were not supplied. open data access only\n",
      "credentials were not supplied. open data access only\n",
      "credentials were not supplied. open data access only\n",
      "credentials were not supplied. open data access only\n",
      "credentials were not supplied. open data access only\n",
      "credentials were not supplied. open data access only\n",
      "credentials were not supplied. open data access only\n",
      "credentials were not supplied. open data access only\n",
      "credentials were not supplied. open data access only\n",
      "credentials were not supplied. open data access only\n",
      "credentials were not supplied. open data access only\n",
      "credentials were not supplied. open data access only\n",
      "credentials were not supplied. open data access only\n",
      "credentials were not supplied. open data access only\n",
      "credentials were not supplied. open data access only\n",
      "credentials were not supplied. open data access only\n",
      "credentials were not supplied. open data access only\n",
      "credentials were not supplied. open data access only\n",
      "credentials were not supplied. open data access only\n",
      "credentials were not supplied. open data access only\n",
      "credentials were not supplied. open data access only\n",
      "credentials were not supplied. open data access only\n",
      "credentials were not supplied. open data access only\n",
      "credentials were not supplied. open data access only\n",
      "credentials were not supplied. open data access only\n",
      "credentials were not supplied. open data access only\n",
      "credentials were not supplied. open data access only\n",
      "credentials were not supplied. open data access only\n",
      "credentials were not supplied. open data access only\n",
      "credentials were not supplied. open data access only\n",
      "credentials were not supplied. open data access only\n",
      "credentials were not supplied. open data access only\n",
      "credentials were not supplied. open data access only\n",
      "credentials were not supplied. open data access only\n",
      "credentials were not supplied. open data access only\n",
      "credentials were not supplied. open data access only\n",
      "credentials were not supplied. open data access only\n",
      "credentials were not supplied. open data access only\n",
      "credentials were not supplied. open data access only\n",
      "credentials were not supplied. open data access only\n",
      "credentials were not supplied. open data access only\n",
      "credentials were not supplied. open data access only\n",
      "credentials were not supplied. open data access only\n",
      "credentials were not supplied. open data access only\n",
      "credentials were not supplied. open data access only\n",
      "credentials were not supplied. open data access only\n",
      "credentials were not supplied. open data access only\n",
      "credentials were not supplied. open data access only\n",
      "credentials were not supplied. open data access only\n",
      "credentials were not supplied. open data access only\n",
      "credentials were not supplied. open data access only\n",
      "credentials were not supplied. open data access only\n",
      "credentials were not supplied. open data access only\n",
      "credentials were not supplied. open data access only\n",
      "credentials were not supplied. open data access only\n",
      "credentials were not supplied. open data access only\n",
      "credentials were not supplied. open data access only\n",
      "credentials were not supplied. open data access only\n",
      "credentials were not supplied. open data access only\n",
      "credentials were not supplied. open data access only\n",
      "credentials were not supplied. open data access only\n",
      "credentials were not supplied. open data access only\n",
      "credentials were not supplied. open data access only\n",
      "credentials were not supplied. open data access only\n",
      "credentials were not supplied. open data access only\n",
      "credentials were not supplied. open data access only\n",
      "credentials were not supplied. open data access only\n",
      "credentials were not supplied. open data access only\n",
      "credentials were not supplied. open data access only\n",
      "credentials were not supplied. open data access only\n",
      "credentials were not supplied. open data access only\n",
      "credentials were not supplied. open data access only\n",
      "credentials were not supplied. open data access only\n",
      "credentials were not supplied. open data access only\n",
      "credentials were not supplied. open data access only\n",
      "credentials were not supplied. open data access only\n",
      "credentials were not supplied. open data access only\n",
      "credentials were not supplied. open data access only\n",
      "credentials were not supplied. open data access only\n",
      "credentials were not supplied. open data access only\n",
      "credentials were not supplied. open data access only\n",
      "credentials were not supplied. open data access only\n",
      "credentials were not supplied. open data access only\n",
      "credentials were not supplied. open data access only\n",
      "credentials were not supplied. open data access only\n"
     ]
    },
    {
     "name": "stdout",
     "output_type": "stream",
     "text": [
      "credentials were not supplied. open data access only\n",
      "credentials were not supplied. open data access only\n",
      "credentials were not supplied. open data access only\n",
      "credentials were not supplied. open data access only\n",
      "credentials were not supplied. open data access only\n",
      "credentials were not supplied. open data access only\n",
      "credentials were not supplied. open data access only\n",
      "credentials were not supplied. open data access only\n",
      "credentials were not supplied. open data access only\n",
      "credentials were not supplied. open data access only\n",
      "credentials were not supplied. open data access only\n",
      "credentials were not supplied. open data access only\n",
      "credentials were not supplied. open data access only\n",
      "credentials were not supplied. open data access only\n",
      "credentials were not supplied. open data access only\n",
      "credentials were not supplied. open data access only\n"
     ]
    }
   ],
   "source": [
    "# get the lineup data\n",
    "lineups = pd.DataFrame()\n",
    "for m in match_ids:\n",
    "    lineup = sb.lineups(match_id=m)\n",
    "    teams = list(lineup.keys())\n",
    "    team1 = teams[0]\n",
    "    team2 = teams[1]\n",
    "    lineup1 = pd.DataFrame(lineup[team1])\n",
    "    lineup2 = pd.DataFrame(lineup[team2])\n",
    "    lineup1[\"team\"] = team1\n",
    "    lineup2[\"team\"] = team2  \n",
    "    lineup1[\"match_id\"] = m\n",
    "    lineup2[\"match_id\"] = m\n",
    "    lineups = pd.concat([lineups, lineup1, lineup2])"
   ]
  },
  {
   "cell_type": "code",
   "execution_count": 81,
   "metadata": {},
   "outputs": [],
   "source": [
    "# extract key info to new df columns\n",
    "lineups[\"position\"] = lineups[\"positions\"].apply(lambda x: x[0][\"position\"] if len(x) > 0 else None)\n",
    "lineups[\"start_time\"] = lineups[\"positions\"].apply(lambda x: x[0][\"from\"] if len(x) > 0 else None)\n",
    "lineups[\"end_time\"] = lineups[\"positions\"].apply(lambda x: x[0][\"to\"] if len(x) > 0 else None)"
   ]
  },
  {
   "cell_type": "code",
   "execution_count": 92,
   "metadata": {},
   "outputs": [
    {
     "name": "stdout",
     "output_type": "stream",
     "text": [
      "['Left Center Back' 'Left Center Forward' 'Left Center Midfield'\n",
      " 'Goalkeeper' 'Right Center Forward' 'Right Center Back' 'Center Midfield'\n",
      " 'Center Back' 'Right Center Midfield' 'Left Midfield' 'Center Forward'\n",
      " 'Right Midfield' 'Left Wing' 'Right Back' 'Left Back' 'Right Wing'\n",
      " 'Center Attacking Midfield' None 'Left Defensive Midfield'\n",
      " 'Right Defensive Midfield' 'Center Defensive Midfield'\n",
      " 'Left Attacking Midfield' 'Right Attacking Midfield' 'Secondary Striker'\n",
      " 'Right Wing Back' 'Left Wing Back']\n"
     ]
    }
   ],
   "source": [
    "# only really interested in centre backs\n",
    "print(lineups.position.unique())\n",
    "cbs = [\"Left Center Back\", \"Right Center Back\", \"Center Back\"]\n",
    "cb_lineups = lineups[lineups.position.isin(cbs)]"
   ]
  },
  {
   "cell_type": "code",
   "execution_count": 93,
   "metadata": {},
   "outputs": [
    {
     "data": {
      "text/plain": [
       "(1476, 12)"
      ]
     },
     "execution_count": 93,
     "metadata": {},
     "output_type": "execute_result"
    }
   ],
   "source": [
    "cb_lineups.shape"
   ]
  },
  {
   "cell_type": "code",
   "execution_count": 108,
   "metadata": {},
   "outputs": [
    {
     "name": "stdout",
     "output_type": "stream",
     "text": [
      "credentials were not supplied. open data access only\n"
     ]
    }
   ],
   "source": [
    "# get event data related to matches\n",
    "events = sb.events(match_id=match_ids[0])"
   ]
  },
  {
   "cell_type": "code",
   "execution_count": 109,
   "metadata": {},
   "outputs": [
    {
     "data": {
      "text/plain": [
       "(3793, 35)"
      ]
     },
     "execution_count": 109,
     "metadata": {},
     "output_type": "execute_result"
    }
   ],
   "source": [
    "events.shape"
   ]
  },
  {
   "cell_type": "code",
   "execution_count": 110,
   "metadata": {},
   "outputs": [
    {
     "data": {
      "text/html": [
       "<div>\n",
       "<style scoped>\n",
       "    .dataframe tbody tr th:only-of-type {\n",
       "        vertical-align: middle;\n",
       "    }\n",
       "\n",
       "    .dataframe tbody tr th {\n",
       "        vertical-align: top;\n",
       "    }\n",
       "\n",
       "    .dataframe thead th {\n",
       "        text-align: right;\n",
       "    }\n",
       "</style>\n",
       "<table border=\"1\" class=\"dataframe\">\n",
       "  <thead>\n",
       "    <tr style=\"text-align: right;\">\n",
       "      <th></th>\n",
       "      <th>bad_behaviour</th>\n",
       "      <th>ball_receipt</th>\n",
       "      <th>ball_recovery</th>\n",
       "      <th>block</th>\n",
       "      <th>carry</th>\n",
       "      <th>counterpress</th>\n",
       "      <th>dribble</th>\n",
       "      <th>duel</th>\n",
       "      <th>duration</th>\n",
       "      <th>foul_committed</th>\n",
       "      <th>...</th>\n",
       "      <th>possession_team</th>\n",
       "      <th>related_events</th>\n",
       "      <th>second</th>\n",
       "      <th>shot</th>\n",
       "      <th>substitution</th>\n",
       "      <th>tactics</th>\n",
       "      <th>team</th>\n",
       "      <th>timestamp</th>\n",
       "      <th>type</th>\n",
       "      <th>under_pressure</th>\n",
       "    </tr>\n",
       "  </thead>\n",
       "  <tbody>\n",
       "    <tr>\n",
       "      <th>1017</th>\n",
       "      <td>NaN</td>\n",
       "      <td>NaN</td>\n",
       "      <td>NaN</td>\n",
       "      <td>NaN</td>\n",
       "      <td>NaN</td>\n",
       "      <td>NaN</td>\n",
       "      <td>NaN</td>\n",
       "      <td>NaN</td>\n",
       "      <td>NaN</td>\n",
       "      <td>NaN</td>\n",
       "      <td>...</td>\n",
       "      <td>Manchester City WFC</td>\n",
       "      <td>[30041b72-609a-4bfb-bb5a-2ee981b8fdbb, 30dca49...</td>\n",
       "      <td>57</td>\n",
       "      <td>NaN</td>\n",
       "      <td>NaN</td>\n",
       "      <td>NaN</td>\n",
       "      <td>Manchester City WFC</td>\n",
       "      <td>00:01:57.793</td>\n",
       "      <td>Ball Receipt*</td>\n",
       "      <td>True</td>\n",
       "    </tr>\n",
       "    <tr>\n",
       "      <th>2015</th>\n",
       "      <td>NaN</td>\n",
       "      <td>NaN</td>\n",
       "      <td>NaN</td>\n",
       "      <td>NaN</td>\n",
       "      <td>{'end_location': [35.0, 41.0]}</td>\n",
       "      <td>NaN</td>\n",
       "      <td>NaN</td>\n",
       "      <td>NaN</td>\n",
       "      <td>1.213</td>\n",
       "      <td>NaN</td>\n",
       "      <td>...</td>\n",
       "      <td>Manchester City WFC</td>\n",
       "      <td>[c4ca8edd-5be4-4b6e-bfd8-45a1d00656d8, dfe747e...</td>\n",
       "      <td>27</td>\n",
       "      <td>NaN</td>\n",
       "      <td>NaN</td>\n",
       "      <td>NaN</td>\n",
       "      <td>Manchester City WFC</td>\n",
       "      <td>00:09:27.700</td>\n",
       "      <td>Carry</td>\n",
       "      <td>NaN</td>\n",
       "    </tr>\n",
       "    <tr>\n",
       "      <th>3388</th>\n",
       "      <td>NaN</td>\n",
       "      <td>NaN</td>\n",
       "      <td>NaN</td>\n",
       "      <td>NaN</td>\n",
       "      <td>NaN</td>\n",
       "      <td>NaN</td>\n",
       "      <td>NaN</td>\n",
       "      <td>NaN</td>\n",
       "      <td>NaN</td>\n",
       "      <td>NaN</td>\n",
       "      <td>...</td>\n",
       "      <td>Chelsea FCW</td>\n",
       "      <td>NaN</td>\n",
       "      <td>34</td>\n",
       "      <td>NaN</td>\n",
       "      <td>NaN</td>\n",
       "      <td>NaN</td>\n",
       "      <td>Chelsea FCW</td>\n",
       "      <td>00:16:34.838</td>\n",
       "      <td>Ball Recovery</td>\n",
       "      <td>NaN</td>\n",
       "    </tr>\n",
       "    <tr>\n",
       "      <th>2316</th>\n",
       "      <td>NaN</td>\n",
       "      <td>NaN</td>\n",
       "      <td>NaN</td>\n",
       "      <td>NaN</td>\n",
       "      <td>{'end_location': [68.0, 13.0]}</td>\n",
       "      <td>NaN</td>\n",
       "      <td>NaN</td>\n",
       "      <td>NaN</td>\n",
       "      <td>4.320</td>\n",
       "      <td>NaN</td>\n",
       "      <td>...</td>\n",
       "      <td>Chelsea FCW</td>\n",
       "      <td>[09f33b45-e25a-4f4a-a04f-63a530cff412, 9e278a3...</td>\n",
       "      <td>27</td>\n",
       "      <td>NaN</td>\n",
       "      <td>NaN</td>\n",
       "      <td>NaN</td>\n",
       "      <td>Chelsea FCW</td>\n",
       "      <td>00:43:27.100</td>\n",
       "      <td>Carry</td>\n",
       "      <td>True</td>\n",
       "    </tr>\n",
       "    <tr>\n",
       "      <th>738</th>\n",
       "      <td>NaN</td>\n",
       "      <td>NaN</td>\n",
       "      <td>NaN</td>\n",
       "      <td>NaN</td>\n",
       "      <td>NaN</td>\n",
       "      <td>NaN</td>\n",
       "      <td>NaN</td>\n",
       "      <td>NaN</td>\n",
       "      <td>1.040</td>\n",
       "      <td>NaN</td>\n",
       "      <td>...</td>\n",
       "      <td>Chelsea FCW</td>\n",
       "      <td>[eeb4f585-3ec0-4bee-8ef8-909ee1f8df41]</td>\n",
       "      <td>47</td>\n",
       "      <td>NaN</td>\n",
       "      <td>NaN</td>\n",
       "      <td>NaN</td>\n",
       "      <td>Chelsea FCW</td>\n",
       "      <td>00:19:47.998</td>\n",
       "      <td>Pass</td>\n",
       "      <td>NaN</td>\n",
       "    </tr>\n",
       "  </tbody>\n",
       "</table>\n",
       "<p>5 rows × 35 columns</p>\n",
       "</div>"
      ],
      "text/plain": [
       "     bad_behaviour ball_receipt ball_recovery block  \\\n",
       "1017           NaN          NaN           NaN   NaN   \n",
       "2015           NaN          NaN           NaN   NaN   \n",
       "3388           NaN          NaN           NaN   NaN   \n",
       "2316           NaN          NaN           NaN   NaN   \n",
       "738            NaN          NaN           NaN   NaN   \n",
       "\n",
       "                               carry counterpress dribble duel  duration  \\\n",
       "1017                             NaN          NaN     NaN  NaN       NaN   \n",
       "2015  {'end_location': [35.0, 41.0]}          NaN     NaN  NaN     1.213   \n",
       "3388                             NaN          NaN     NaN  NaN       NaN   \n",
       "2316  {'end_location': [68.0, 13.0]}          NaN     NaN  NaN     4.320   \n",
       "738                              NaN          NaN     NaN  NaN     1.040   \n",
       "\n",
       "     foul_committed  ...      possession_team  \\\n",
       "1017            NaN  ...  Manchester City WFC   \n",
       "2015            NaN  ...  Manchester City WFC   \n",
       "3388            NaN  ...          Chelsea FCW   \n",
       "2316            NaN  ...          Chelsea FCW   \n",
       "738             NaN  ...          Chelsea FCW   \n",
       "\n",
       "                                         related_events second  shot  \\\n",
       "1017  [30041b72-609a-4bfb-bb5a-2ee981b8fdbb, 30dca49...     57   NaN   \n",
       "2015  [c4ca8edd-5be4-4b6e-bfd8-45a1d00656d8, dfe747e...     27   NaN   \n",
       "3388                                                NaN     34   NaN   \n",
       "2316  [09f33b45-e25a-4f4a-a04f-63a530cff412, 9e278a3...     27   NaN   \n",
       "738              [eeb4f585-3ec0-4bee-8ef8-909ee1f8df41]     47   NaN   \n",
       "\n",
       "     substitution tactics                 team     timestamp           type  \\\n",
       "1017          NaN     NaN  Manchester City WFC  00:01:57.793  Ball Receipt*   \n",
       "2015          NaN     NaN  Manchester City WFC  00:09:27.700          Carry   \n",
       "3388          NaN     NaN          Chelsea FCW  00:16:34.838  Ball Recovery   \n",
       "2316          NaN     NaN          Chelsea FCW  00:43:27.100          Carry   \n",
       "738           NaN     NaN          Chelsea FCW  00:19:47.998           Pass   \n",
       "\n",
       "     under_pressure  \n",
       "1017           True  \n",
       "2015            NaN  \n",
       "3388            NaN  \n",
       "2316           True  \n",
       "738             NaN  \n",
       "\n",
       "[5 rows x 35 columns]"
      ]
     },
     "execution_count": 110,
     "metadata": {},
     "output_type": "execute_result"
    }
   ],
   "source": [
    "events.sample(5)"
   ]
  },
  {
   "cell_type": "code",
   "execution_count": 98,
   "metadata": {},
   "outputs": [
    {
     "data": {
      "text/plain": [
       "Index(['bad_behaviour', 'ball_receipt', 'ball_recovery', 'block', 'carry',\n",
       "       'counterpress', 'dribble', 'duel', 'duration', 'foul_committed',\n",
       "       'foul_won', 'goalkeeper', 'id', 'index', 'injury_stoppage',\n",
       "       'interception', 'location', 'match_id', 'minute', 'pass', 'period',\n",
       "       'play_pattern', 'player', 'position', 'possession', 'possession_team',\n",
       "       'related_events', 'second', 'shot', 'substitution', 'tactics', 'team',\n",
       "       'timestamp', 'type', 'under_pressure'],\n",
       "      dtype='object')"
      ]
     },
     "execution_count": 98,
     "metadata": {},
     "output_type": "execute_result"
    }
   ],
   "source": [
    "events.columns"
   ]
  },
  {
   "cell_type": "code",
   "execution_count": 120,
   "metadata": {},
   "outputs": [],
   "source": [
    "# get shot data\n",
    "shots = events[events.shot.notnull()]\n",
    "shots = shots[[\"match_id\", \"id\", \"player\", \"minute\", \"possession_team\", \"shot\"]]\n",
    "shots[\"xG\"] = shots[\"shot\"].apply(lambda x: x[\"statsbomb_xg\"])"
   ]
  },
  {
   "cell_type": "code",
   "execution_count": 132,
   "metadata": {},
   "outputs": [],
   "source": [
    "# get possession data\n",
    "possession = events[[\"match_id\", \"possession_team\", \"duration\", \"type\", \"location\", \"minute\"]]"
   ]
  },
  {
   "cell_type": "markdown",
   "metadata": {},
   "source": [
    "### 3. Clean data\n",
    "The clean dataset needs to contain each centre back combination for each game for each team, with which minutes they played and the possession / xG stats for those minutes"
   ]
  },
  {
   "cell_type": "code",
   "execution_count": 179,
   "metadata": {},
   "outputs": [
    {
     "name": "stderr",
     "output_type": "stream",
     "text": [
      "/anaconda3/lib/python3.6/site-packages/ipykernel_launcher.py:1: SettingWithCopyWarning: \n",
      "A value is trying to be set on a copy of a slice from a DataFrame.\n",
      "Try using .loc[row_indexer,col_indexer] = value instead\n",
      "\n",
      "See the caveats in the documentation: https://pandas.pydata.org/pandas-docs/stable/user_guide/indexing.html#returning-a-view-versus-a-copy\n",
      "  \"\"\"Entry point for launching an IPython kernel.\n",
      "/anaconda3/lib/python3.6/site-packages/ipykernel_launcher.py:2: SettingWithCopyWarning: \n",
      "A value is trying to be set on a copy of a slice from a DataFrame.\n",
      "Try using .loc[row_indexer,col_indexer] = value instead\n",
      "\n",
      "See the caveats in the documentation: https://pandas.pydata.org/pandas-docs/stable/user_guide/indexing.html#returning-a-view-versus-a-copy\n",
      "  \n"
     ]
    }
   ],
   "source": [
    "cb_lineups[\"start_minute\"] = cb_lineups[\"start_time\"].apply(lambda x: int(str(x).split(\":\")[0]))\n",
    "cb_lineups[\"end_minute\"] = cb_lineups[\"end_time\"].apply(lambda x: int(str(x).split(\":\")[0]) if x is not None else None)"
   ]
  },
  {
   "cell_type": "code",
   "execution_count": 180,
   "metadata": {},
   "outputs": [
    {
     "data": {
      "text/html": [
       "<div>\n",
       "<style scoped>\n",
       "    .dataframe tbody tr th:only-of-type {\n",
       "        vertical-align: middle;\n",
       "    }\n",
       "\n",
       "    .dataframe tbody tr th {\n",
       "        vertical-align: top;\n",
       "    }\n",
       "\n",
       "    .dataframe thead th {\n",
       "        text-align: right;\n",
       "    }\n",
       "</style>\n",
       "<table border=\"1\" class=\"dataframe\">\n",
       "  <thead>\n",
       "    <tr style=\"text-align: right;\">\n",
       "      <th></th>\n",
       "      <th>player_id</th>\n",
       "      <th>player_name</th>\n",
       "      <th>player_nickname</th>\n",
       "      <th>jersey_number</th>\n",
       "      <th>country</th>\n",
       "      <th>cards</th>\n",
       "      <th>positions</th>\n",
       "      <th>team</th>\n",
       "      <th>match_id</th>\n",
       "      <th>position</th>\n",
       "      <th>start_time</th>\n",
       "      <th>end_time</th>\n",
       "      <th>start_minute</th>\n",
       "      <th>end_minute</th>\n",
       "    </tr>\n",
       "  </thead>\n",
       "  <tbody>\n",
       "    <tr>\n",
       "      <th>0</th>\n",
       "      <td>4633</td>\n",
       "      <td>Magdalena Lilly Eriksson</td>\n",
       "      <td>None</td>\n",
       "      <td>16</td>\n",
       "      <td>Sweden</td>\n",
       "      <td>[]</td>\n",
       "      <td>[{'position_id': 5, 'position': 'Left Center B...</td>\n",
       "      <td>Chelsea FCW</td>\n",
       "      <td>7298</td>\n",
       "      <td>Left Center Back</td>\n",
       "      <td>00:00</td>\n",
       "      <td>None</td>\n",
       "      <td>0</td>\n",
       "      <td>NaN</td>\n",
       "    </tr>\n",
       "    <tr>\n",
       "      <th>5</th>\n",
       "      <td>4642</td>\n",
       "      <td>Millie Bright</td>\n",
       "      <td>None</td>\n",
       "      <td>4</td>\n",
       "      <td>England</td>\n",
       "      <td>[]</td>\n",
       "      <td>[{'position_id': 3, 'position': 'Right Center ...</td>\n",
       "      <td>Chelsea FCW</td>\n",
       "      <td>7298</td>\n",
       "      <td>Right Center Back</td>\n",
       "      <td>00:00</td>\n",
       "      <td>31:37</td>\n",
       "      <td>0</td>\n",
       "      <td>31.0</td>\n",
       "    </tr>\n",
       "  </tbody>\n",
       "</table>\n",
       "</div>"
      ],
      "text/plain": [
       "   player_id               player_name player_nickname  jersey_number  \\\n",
       "0       4633  Magdalena Lilly Eriksson            None             16   \n",
       "5       4642             Millie Bright            None              4   \n",
       "\n",
       "   country cards                                          positions  \\\n",
       "0   Sweden    []  [{'position_id': 5, 'position': 'Left Center B...   \n",
       "5  England    []  [{'position_id': 3, 'position': 'Right Center ...   \n",
       "\n",
       "          team  match_id           position start_time end_time  start_minute  \\\n",
       "0  Chelsea FCW      7298   Left Center Back      00:00     None             0   \n",
       "5  Chelsea FCW      7298  Right Center Back      00:00    31:37             0   \n",
       "\n",
       "   end_minute  \n",
       "0         NaN  \n",
       "5        31.0  "
      ]
     },
     "execution_count": 180,
     "metadata": {},
     "output_type": "execute_result"
    }
   ],
   "source": [
    "cb_lineups.head(2)"
   ]
  },
  {
   "cell_type": "code",
   "execution_count": 240,
   "metadata": {},
   "outputs": [],
   "source": [
    "# Get the lineups for each match first\n",
    "player_ids = []\n",
    "starts = []\n",
    "ends = []\n",
    "matches = []\n",
    "teams = []\n",
    "\n",
    "# get unique match / team combos\n",
    "mts = set(list(zip(cb_lineups.match_id.values, cb_lineups.team.values))[:20])\n",
    "\n",
    "# loop through match-teams and compute different lineup combinations\n",
    "for m, t in mts:\n",
    "    # get basic info / num lineup changes\n",
    "    match_team_df = cb_lineups[(cb_lineups.match_id == m) & (cb_lineups.team == t)]\n",
    "    num_lineups = match_team_df[match_team_df.end_minute.notnull()].shape[0] + 1\n",
    "    matches.extend([m] * num_lineups)\n",
    "    teams.extend([t] * num_lineups)\n",
    "    \n",
    "    # get first lineup\n",
    "    starts.append(0)\n",
    "    ends.append(min(match_team_df[\"end_minute\"]))\n",
    "    current_lineup = list(match_team_df[match_team_df.start_minute == 0].player_id.values)\n",
    "    player_ids.append(current_lineup)\n",
    "    \n",
    "    # get subsequent lineups\n",
    "    if num_lineups != 1:\n",
    "        changes = [x for x in match_team_df.start_minute.values if x > 0]\n",
    "        change_ends = [x for x in match_team_df.end_minute.values if x > 0]\n",
    "        changes.extend(change_ends)"
   ]
  },
  {
   "cell_type": "code",
   "execution_count": 241,
   "metadata": {},
   "outputs": [
    {
     "data": {
      "text/plain": [
       "[31.0]"
      ]
     },
     "execution_count": 241,
     "metadata": {},
     "output_type": "execute_result"
    }
   ],
   "source": [
    "changes"
   ]
  },
  {
   "cell_type": "code",
   "execution_count": 227,
   "metadata": {},
   "outputs": [
    {
     "data": {
      "text/plain": [
       "[nan, 31.0, nan]"
      ]
     },
     "execution_count": 227,
     "metadata": {},
     "output_type": "execute_result"
    }
   ],
   "source": [
    "change_ends"
   ]
  },
  {
   "cell_type": "code",
   "execution_count": 217,
   "metadata": {},
   "outputs": [
    {
     "data": {
      "text/plain": [
       "['Manchester City WFC',\n",
       " 'Manchester City WFC',\n",
       " 'Birmingham City WFC',\n",
       " 'Chelsea FCW',\n",
       " 'Arsenal WFC',\n",
       " 'Birmingham City WFC',\n",
       " 'Yeovil Town LFC',\n",
       " 'Yeovil Town LFC',\n",
       " 'Yeovil Town LFC',\n",
       " 'Chelsea FCW',\n",
       " 'Chelsea FCW',\n",
       " 'Yeovil Town LFC',\n",
       " 'Brighton & Hove Albion WFC',\n",
       " 'Manchester City WFC']"
      ]
     },
     "execution_count": 217,
     "metadata": {},
     "output_type": "execute_result"
    }
   ],
   "source": [
    "teams"
   ]
  },
  {
   "cell_type": "code",
   "execution_count": 218,
   "metadata": {},
   "outputs": [
    {
     "data": {
      "text/plain": [
       "[[4648, 17524],\n",
       " [19502, 19503],\n",
       " [4633, 4642],\n",
       " [10666, 18999],\n",
       " [19502, 19503],\n",
       " [15715, 15717],\n",
       " [4633, 4642, 4657],\n",
       " [15712, 15717],\n",
       " [16394, 16395],\n",
       " [10185, 17524]]"
      ]
     },
     "execution_count": 218,
     "metadata": {},
     "output_type": "execute_result"
    }
   ],
   "source": [
    "player_ids"
   ]
  },
  {
   "cell_type": "code",
   "execution_count": 219,
   "metadata": {},
   "outputs": [
    {
     "data": {
      "text/plain": [
       "[0, 0, 0, 0, 0, 0, 0, 0, 0, 0]"
      ]
     },
     "execution_count": 219,
     "metadata": {},
     "output_type": "execute_result"
    }
   ],
   "source": [
    "starts"
   ]
  },
  {
   "cell_type": "code",
   "execution_count": 220,
   "metadata": {},
   "outputs": [
    {
     "data": {
      "text/plain": [
       "[33.0, nan, nan, nan, nan, 4.0, nan, nan, nan, nan]"
      ]
     },
     "execution_count": 220,
     "metadata": {},
     "output_type": "execute_result"
    }
   ],
   "source": [
    "ends"
   ]
  },
  {
   "cell_type": "code",
   "execution_count": 207,
   "metadata": {},
   "outputs": [
    {
     "ename": "IndexError",
     "evalue": "list index out of range",
     "output_type": "error",
     "traceback": [
      "\u001b[0;31m---------------------------------------------------------------------------\u001b[0m",
      "\u001b[0;31mIndexError\u001b[0m                                Traceback (most recent call last)",
      "\u001b[0;32m<ipython-input-207-feccc5f2061d>\u001b[0m in \u001b[0;36m<module>\u001b[0;34m\u001b[0m\n\u001b[1;32m      1\u001b[0m \u001b[0mm1\u001b[0m \u001b[0;34m=\u001b[0m \u001b[0;36m10\u001b[0m\u001b[0;34m\u001b[0m\u001b[0;34m\u001b[0m\u001b[0m\n\u001b[0;32m----> 2\u001b[0;31m \u001b[0mm\u001b[0m \u001b[0;34m=\u001b[0m \u001b[0mlist\u001b[0m\u001b[0;34m(\u001b[0m\u001b[0mmts\u001b[0m\u001b[0;34m)\u001b[0m\u001b[0;34m[\u001b[0m\u001b[0mm1\u001b[0m\u001b[0;34m]\u001b[0m\u001b[0;34m[\u001b[0m\u001b[0;36m0\u001b[0m\u001b[0;34m]\u001b[0m\u001b[0;34m\u001b[0m\u001b[0;34m\u001b[0m\u001b[0m\n\u001b[0m\u001b[1;32m      3\u001b[0m \u001b[0mt\u001b[0m \u001b[0;34m=\u001b[0m \u001b[0mlist\u001b[0m\u001b[0;34m(\u001b[0m\u001b[0mmts\u001b[0m\u001b[0;34m)\u001b[0m\u001b[0;34m[\u001b[0m\u001b[0mm1\u001b[0m\u001b[0;34m]\u001b[0m\u001b[0;34m[\u001b[0m\u001b[0;36m1\u001b[0m\u001b[0;34m]\u001b[0m\u001b[0;34m\u001b[0m\u001b[0;34m\u001b[0m\u001b[0m\n",
      "\u001b[0;31mIndexError\u001b[0m: list index out of range"
     ]
    }
   ],
   "source": [
    "m1 = 10\n",
    "m = list(mts)[m1][0]\n",
    "t = list(mts)[m1][1]"
   ]
  },
  {
   "cell_type": "code",
   "execution_count": 187,
   "metadata": {},
   "outputs": [],
   "source": [
    "match_team_df = cb_lineups[(cb_lineups.match_id == m) & (cb_lineups.team == t)]"
   ]
  },
  {
   "cell_type": "code",
   "execution_count": 189,
   "metadata": {},
   "outputs": [
    {
     "data": {
      "text/plain": [
       "0"
      ]
     },
     "execution_count": 189,
     "metadata": {},
     "output_type": "execute_result"
    }
   ],
   "source": [
    "match_team_df[match_team_df.end_minute.notnull()].shape[0]"
   ]
  },
  {
   "cell_type": "code",
   "execution_count": 188,
   "metadata": {},
   "outputs": [
    {
     "data": {
      "text/html": [
       "<div>\n",
       "<style scoped>\n",
       "    .dataframe tbody tr th:only-of-type {\n",
       "        vertical-align: middle;\n",
       "    }\n",
       "\n",
       "    .dataframe tbody tr th {\n",
       "        vertical-align: top;\n",
       "    }\n",
       "\n",
       "    .dataframe thead th {\n",
       "        text-align: right;\n",
       "    }\n",
       "</style>\n",
       "<table border=\"1\" class=\"dataframe\">\n",
       "  <thead>\n",
       "    <tr style=\"text-align: right;\">\n",
       "      <th></th>\n",
       "      <th>player_id</th>\n",
       "      <th>player_name</th>\n",
       "      <th>player_nickname</th>\n",
       "      <th>jersey_number</th>\n",
       "      <th>country</th>\n",
       "      <th>cards</th>\n",
       "      <th>positions</th>\n",
       "      <th>team</th>\n",
       "      <th>match_id</th>\n",
       "      <th>position</th>\n",
       "      <th>start_time</th>\n",
       "      <th>end_time</th>\n",
       "      <th>start_minute</th>\n",
       "      <th>end_minute</th>\n",
       "    </tr>\n",
       "  </thead>\n",
       "  <tbody>\n",
       "    <tr>\n",
       "      <th>1</th>\n",
       "      <td>15618</td>\n",
       "      <td>Jasmine Matthews</td>\n",
       "      <td>None</td>\n",
       "      <td>4</td>\n",
       "      <td>England</td>\n",
       "      <td>[]</td>\n",
       "      <td>[{'position_id': 4, 'position': 'Center Back',...</td>\n",
       "      <td>Bristol City WFC</td>\n",
       "      <td>3775625</td>\n",
       "      <td>Center Back</td>\n",
       "      <td>00:00</td>\n",
       "      <td>None</td>\n",
       "      <td>0</td>\n",
       "      <td>NaN</td>\n",
       "    </tr>\n",
       "    <tr>\n",
       "      <th>6</th>\n",
       "      <td>24922</td>\n",
       "      <td>Florence Allen</td>\n",
       "      <td>None</td>\n",
       "      <td>12</td>\n",
       "      <td>England</td>\n",
       "      <td>[]</td>\n",
       "      <td>[{'position_id': 3, 'position': 'Right Center ...</td>\n",
       "      <td>Bristol City WFC</td>\n",
       "      <td>3775625</td>\n",
       "      <td>Right Center Back</td>\n",
       "      <td>00:00</td>\n",
       "      <td>None</td>\n",
       "      <td>0</td>\n",
       "      <td>NaN</td>\n",
       "    </tr>\n",
       "    <tr>\n",
       "      <th>13</th>\n",
       "      <td>46741</td>\n",
       "      <td>Naomi Layzell</td>\n",
       "      <td>None</td>\n",
       "      <td>25</td>\n",
       "      <td>England</td>\n",
       "      <td>[]</td>\n",
       "      <td>[{'position_id': 5, 'position': 'Left Center B...</td>\n",
       "      <td>Bristol City WFC</td>\n",
       "      <td>3775625</td>\n",
       "      <td>Left Center Back</td>\n",
       "      <td>00:00</td>\n",
       "      <td>None</td>\n",
       "      <td>0</td>\n",
       "      <td>NaN</td>\n",
       "    </tr>\n",
       "  </tbody>\n",
       "</table>\n",
       "</div>"
      ],
      "text/plain": [
       "    player_id       player_name player_nickname  jersey_number  country cards  \\\n",
       "1       15618  Jasmine Matthews            None              4  England    []   \n",
       "6       24922    Florence Allen            None             12  England    []   \n",
       "13      46741     Naomi Layzell            None             25  England    []   \n",
       "\n",
       "                                            positions              team  \\\n",
       "1   [{'position_id': 4, 'position': 'Center Back',...  Bristol City WFC   \n",
       "6   [{'position_id': 3, 'position': 'Right Center ...  Bristol City WFC   \n",
       "13  [{'position_id': 5, 'position': 'Left Center B...  Bristol City WFC   \n",
       "\n",
       "    match_id           position start_time end_time  start_minute  end_minute  \n",
       "1    3775625        Center Back      00:00     None             0         NaN  \n",
       "6    3775625  Right Center Back      00:00     None             0         NaN  \n",
       "13   3775625   Left Center Back      00:00     None             0         NaN  "
      ]
     },
     "execution_count": 188,
     "metadata": {},
     "output_type": "execute_result"
    }
   ],
   "source": [
    "match_team_df"
   ]
  },
  {
   "cell_type": "code",
   "execution_count": 137,
   "metadata": {},
   "outputs": [
    {
     "data": {
      "text/html": [
       "<div>\n",
       "<style scoped>\n",
       "    .dataframe tbody tr th:only-of-type {\n",
       "        vertical-align: middle;\n",
       "    }\n",
       "\n",
       "    .dataframe tbody tr th {\n",
       "        vertical-align: top;\n",
       "    }\n",
       "\n",
       "    .dataframe thead th {\n",
       "        text-align: right;\n",
       "    }\n",
       "</style>\n",
       "<table border=\"1\" class=\"dataframe\">\n",
       "  <thead>\n",
       "    <tr style=\"text-align: right;\">\n",
       "      <th></th>\n",
       "      <th>match_id</th>\n",
       "      <th>possession_team</th>\n",
       "      <th>duration</th>\n",
       "      <th>type</th>\n",
       "      <th>location</th>\n",
       "      <th>minute</th>\n",
       "    </tr>\n",
       "  </thead>\n",
       "  <tbody>\n",
       "    <tr>\n",
       "      <th>2608</th>\n",
       "      <td>7298</td>\n",
       "      <td>Manchester City WFC</td>\n",
       "      <td>3.24</td>\n",
       "      <td>Carry</td>\n",
       "      <td>[71.0, 9.0]</td>\n",
       "      <td>72</td>\n",
       "    </tr>\n",
       "    <tr>\n",
       "      <th>1752</th>\n",
       "      <td>7298</td>\n",
       "      <td>Manchester City WFC</td>\n",
       "      <td>NaN</td>\n",
       "      <td>Ball Receipt*</td>\n",
       "      <td>[76.0, 9.0]</td>\n",
       "      <td>72</td>\n",
       "    </tr>\n",
       "  </tbody>\n",
       "</table>\n",
       "</div>"
      ],
      "text/plain": [
       "      match_id      possession_team  duration           type     location  \\\n",
       "2608      7298  Manchester City WFC      3.24          Carry  [71.0, 9.0]   \n",
       "1752      7298  Manchester City WFC       NaN  Ball Receipt*  [76.0, 9.0]   \n",
       "\n",
       "      minute  \n",
       "2608      72  \n",
       "1752      72  "
      ]
     },
     "execution_count": 137,
     "metadata": {},
     "output_type": "execute_result"
    }
   ],
   "source": [
    "possession.sample(2)"
   ]
  },
  {
   "cell_type": "code",
   "execution_count": 155,
   "metadata": {},
   "outputs": [
    {
     "data": {
      "text/html": [
       "<div>\n",
       "<style scoped>\n",
       "    .dataframe tbody tr th:only-of-type {\n",
       "        vertical-align: middle;\n",
       "    }\n",
       "\n",
       "    .dataframe tbody tr th {\n",
       "        vertical-align: top;\n",
       "    }\n",
       "\n",
       "    .dataframe thead th {\n",
       "        text-align: right;\n",
       "    }\n",
       "</style>\n",
       "<table border=\"1\" class=\"dataframe\">\n",
       "  <thead>\n",
       "    <tr style=\"text-align: right;\">\n",
       "      <th></th>\n",
       "      <th>player_id</th>\n",
       "      <th>player_name</th>\n",
       "      <th>player_nickname</th>\n",
       "      <th>jersey_number</th>\n",
       "      <th>country</th>\n",
       "      <th>cards</th>\n",
       "      <th>positions</th>\n",
       "      <th>team</th>\n",
       "      <th>match_id</th>\n",
       "      <th>position</th>\n",
       "      <th>start_time</th>\n",
       "      <th>end_time</th>\n",
       "    </tr>\n",
       "  </thead>\n",
       "  <tbody>\n",
       "    <tr>\n",
       "      <th>8</th>\n",
       "      <td>10185</td>\n",
       "      <td>Stephanie Houghton</td>\n",
       "      <td>None</td>\n",
       "      <td>6</td>\n",
       "      <td>England</td>\n",
       "      <td>[]</td>\n",
       "      <td>[{'position_id': 3, 'position': 'Right Center ...</td>\n",
       "      <td>Manchester City WFC</td>\n",
       "      <td>2275092</td>\n",
       "      <td>Right Center Back</td>\n",
       "      <td>00:00</td>\n",
       "      <td>None</td>\n",
       "    </tr>\n",
       "    <tr>\n",
       "      <th>10</th>\n",
       "      <td>15554</td>\n",
       "      <td>Gemma Bonner</td>\n",
       "      <td>None</td>\n",
       "      <td>4</td>\n",
       "      <td>England</td>\n",
       "      <td>[]</td>\n",
       "      <td>[{'position_id': 5, 'position': 'Left Center B...</td>\n",
       "      <td>Manchester City WFC</td>\n",
       "      <td>2275092</td>\n",
       "      <td>Left Center Back</td>\n",
       "      <td>00:00</td>\n",
       "      <td>None</td>\n",
       "    </tr>\n",
       "    <tr>\n",
       "      <th>2</th>\n",
       "      <td>15569</td>\n",
       "      <td>Kerys Harrop</td>\n",
       "      <td>None</td>\n",
       "      <td>6</td>\n",
       "      <td>England</td>\n",
       "      <td>[]</td>\n",
       "      <td>[{'position_id': 5, 'position': 'Left Center B...</td>\n",
       "      <td>Birmingham City WFC</td>\n",
       "      <td>2275092</td>\n",
       "      <td>Left Center Back</td>\n",
       "      <td>74:11</td>\n",
       "      <td>None</td>\n",
       "    </tr>\n",
       "    <tr>\n",
       "      <th>7</th>\n",
       "      <td>19592</td>\n",
       "      <td>Harriet Scott</td>\n",
       "      <td>None</td>\n",
       "      <td>3</td>\n",
       "      <td>Ireland</td>\n",
       "      <td>[]</td>\n",
       "      <td>[{'position_id': 3, 'position': 'Right Center ...</td>\n",
       "      <td>Birmingham City WFC</td>\n",
       "      <td>2275092</td>\n",
       "      <td>Right Center Back</td>\n",
       "      <td>00:00</td>\n",
       "      <td>None</td>\n",
       "    </tr>\n",
       "    <tr>\n",
       "      <th>13</th>\n",
       "      <td>31568</td>\n",
       "      <td>Rebecca Holloway</td>\n",
       "      <td>None</td>\n",
       "      <td>25</td>\n",
       "      <td>Northern Ireland</td>\n",
       "      <td>[]</td>\n",
       "      <td>[{'position_id': 5, 'position': 'Left Center B...</td>\n",
       "      <td>Birmingham City WFC</td>\n",
       "      <td>2275092</td>\n",
       "      <td>Left Center Back</td>\n",
       "      <td>00:00</td>\n",
       "      <td>74:11</td>\n",
       "    </tr>\n",
       "  </tbody>\n",
       "</table>\n",
       "</div>"
      ],
      "text/plain": [
       "    player_id         player_name player_nickname  jersey_number  \\\n",
       "8       10185  Stephanie Houghton            None              6   \n",
       "10      15554        Gemma Bonner            None              4   \n",
       "2       15569        Kerys Harrop            None              6   \n",
       "7       19592       Harriet Scott            None              3   \n",
       "13      31568    Rebecca Holloway            None             25   \n",
       "\n",
       "             country cards                                          positions  \\\n",
       "8            England    []  [{'position_id': 3, 'position': 'Right Center ...   \n",
       "10           England    []  [{'position_id': 5, 'position': 'Left Center B...   \n",
       "2            England    []  [{'position_id': 5, 'position': 'Left Center B...   \n",
       "7            Ireland    []  [{'position_id': 3, 'position': 'Right Center ...   \n",
       "13  Northern Ireland    []  [{'position_id': 5, 'position': 'Left Center B...   \n",
       "\n",
       "                   team  match_id           position start_time end_time  \n",
       "8   Manchester City WFC   2275092  Right Center Back      00:00     None  \n",
       "10  Manchester City WFC   2275092   Left Center Back      00:00     None  \n",
       "2   Birmingham City WFC   2275092   Left Center Back      74:11     None  \n",
       "7   Birmingham City WFC   2275092  Right Center Back      00:00     None  \n",
       "13  Birmingham City WFC   2275092   Left Center Back      00:00    74:11  "
      ]
     },
     "execution_count": 155,
     "metadata": {},
     "output_type": "execute_result"
    }
   ],
   "source": [
    "cb_lineups[cb_lineups.match_id == match_ids[132]]"
   ]
  },
  {
   "cell_type": "code",
   "execution_count": 140,
   "metadata": {},
   "outputs": [
    {
     "data": {
      "text/html": [
       "<div>\n",
       "<style scoped>\n",
       "    .dataframe tbody tr th:only-of-type {\n",
       "        vertical-align: middle;\n",
       "    }\n",
       "\n",
       "    .dataframe tbody tr th {\n",
       "        vertical-align: top;\n",
       "    }\n",
       "\n",
       "    .dataframe thead th {\n",
       "        text-align: right;\n",
       "    }\n",
       "</style>\n",
       "<table border=\"1\" class=\"dataframe\">\n",
       "  <thead>\n",
       "    <tr style=\"text-align: right;\">\n",
       "      <th></th>\n",
       "      <th>match_id</th>\n",
       "      <th>id</th>\n",
       "      <th>player</th>\n",
       "      <th>minute</th>\n",
       "      <th>possession_team</th>\n",
       "      <th>shot</th>\n",
       "      <th>xG</th>\n",
       "    </tr>\n",
       "  </thead>\n",
       "  <tbody>\n",
       "    <tr>\n",
       "      <th>3535</th>\n",
       "      <td>7298</td>\n",
       "      <td>23d74ba8-6e5d-4855-8b3a-81b310e9d35a</td>\n",
       "      <td>Jill Scott</td>\n",
       "      <td>26</td>\n",
       "      <td>Manchester City WFC</td>\n",
       "      <td>{'statsbomb_xg': 0.08011432, 'end_location': [...</td>\n",
       "      <td>0.080114</td>\n",
       "    </tr>\n",
       "    <tr>\n",
       "      <th>3537</th>\n",
       "      <td>7298</td>\n",
       "      <td>ea3833bf-1f02-4fba-9b27-8a1ebc28d732</td>\n",
       "      <td>Ramona Bachmann</td>\n",
       "      <td>39</td>\n",
       "      <td>Chelsea FCW</td>\n",
       "      <td>{'statsbomb_xg': 0.024449918, 'end_location': ...</td>\n",
       "      <td>0.024450</td>\n",
       "    </tr>\n",
       "  </tbody>\n",
       "</table>\n",
       "</div>"
      ],
      "text/plain": [
       "      match_id                                    id           player  minute  \\\n",
       "3535      7298  23d74ba8-6e5d-4855-8b3a-81b310e9d35a       Jill Scott      26   \n",
       "3537      7298  ea3833bf-1f02-4fba-9b27-8a1ebc28d732  Ramona Bachmann      39   \n",
       "\n",
       "          possession_team                                               shot  \\\n",
       "3535  Manchester City WFC  {'statsbomb_xg': 0.08011432, 'end_location': [...   \n",
       "3537          Chelsea FCW  {'statsbomb_xg': 0.024449918, 'end_location': ...   \n",
       "\n",
       "            xG  \n",
       "3535  0.080114  \n",
       "3537  0.024450  "
      ]
     },
     "execution_count": 140,
     "metadata": {},
     "output_type": "execute_result"
    }
   ],
   "source": [
    "shots.sample(2)"
   ]
  },
  {
   "cell_type": "code",
   "execution_count": null,
   "metadata": {},
   "outputs": [],
   "source": []
  }
 ],
 "metadata": {
  "kernelspec": {
   "display_name": "Python 3",
   "language": "python",
   "name": "python3"
  },
  "language_info": {
   "codemirror_mode": {
    "name": "ipython",
    "version": 3
   },
   "file_extension": ".py",
   "mimetype": "text/x-python",
   "name": "python",
   "nbconvert_exporter": "python",
   "pygments_lexer": "ipython3",
   "version": "3.6.10"
  }
 },
 "nbformat": 4,
 "nbformat_minor": 5
}
