{
 "cells": [
  {
   "cell_type": "markdown",
   "id": "13cad4a4",
   "metadata": {},
   "source": [
    "## A model for measuring defensive ability of centre-backs"
   ]
  },
  {
   "cell_type": "markdown",
   "id": "4c3d6d50",
   "metadata": {},
   "source": [
    "Assessing the ability of central defenders is one of the biggest challenges in football analytics. In this notebook, I propose a flexible, probabilistic  model for measuring the defensive ability of central defenders that combines individual counting statistics and team-performance factors.\n",
    "\n",
    "This approach is simple, but will hopefully act as a nice starting point for future improvement."
   ]
  },
  {
   "cell_type": "markdown",
   "id": "6616660c",
   "metadata": {},
   "source": [
    "### Dependencies"
   ]
  },
  {
   "cell_type": "code",
   "execution_count": 4,
   "id": "6fa63345",
   "metadata": {},
   "outputs": [
    {
     "name": "stderr",
     "output_type": "stream",
     "text": [
      "┌ Info: Precompiling ForneyLab [9fc3f58a-c2cc-5bff-9419-6a294fefdca9]\n",
      "└ @ Base loading.jl:1423\n"
     ]
    }
   ],
   "source": [
    "using DataFrames\n",
    "using CSV\n",
    "using ForneyLab"
   ]
  },
  {
   "cell_type": "markdown",
   "id": "838e2fd7",
   "metadata": {},
   "source": [
    "### The data\n",
    "Thanks to fbref.com for providing the data."
   ]
  },
  {
   "cell_type": "code",
   "execution_count": null,
   "id": "542baf16",
   "metadata": {},
   "outputs": [],
   "source": []
  }
 ],
 "metadata": {
  "kernelspec": {
   "display_name": "Julia 1.7.3",
   "language": "julia",
   "name": "julia-1.7"
  },
  "language_info": {
   "file_extension": ".jl",
   "mimetype": "application/julia",
   "name": "julia",
   "version": "1.7.3"
  }
 },
 "nbformat": 4,
 "nbformat_minor": 5
}
